{
 "cells": [
  {
   "cell_type": "markdown",
   "metadata": {},
   "source": [
    "# Interpolation"
   ]
  },
  {
   "cell_type": "code",
   "execution_count": 18,
   "metadata": {},
   "outputs": [],
   "source": [
    "import numpy as np\n",
    "import matplotlib.pyplot as plt"
   ]
  },
  {
   "cell_type": "markdown",
   "metadata": {},
   "source": [
    "### Linear Interpolation"
   ]
  },
  {
   "cell_type": "markdown",
   "metadata": {},
   "source": [
    "Suppose we are given a function $f(x)$ at just two points, $x=a$ and $x=b$, and you want to know the function at another point in between. The simplest way to find an estimate of this value is using linear interpolation. Linear interpolation assumes the function follows a straight line between two points. The slope of the straight line approximate is:\n",
    "$$ m = \\frac{f(b) - f(a)}{b - a} $$\n",
    "\n",
    "Then the value $f(x)$ can be approximated by:\n",
    "$$ f(x) \\approx \\frac{f(b) - f(a)}{b-a} (x-a) + f(a) $$"
   ]
  },
  {
   "cell_type": "markdown",
   "metadata": {},
   "source": [
    "#### Step 1: Define a linear function\n",
    "\n",
    "Create a linear function $f(x) = ax + b$. Linear interpolation will yield an accurate answer for a a linear function. This is how we will test our linear interpolation."
   ]
  },
  {
   "cell_type": "code",
   "execution_count": 19,
   "metadata": {},
   "outputs": [],
   "source": [
    "# The function I will be using to test linear interpolation\n",
    "def my_function(x):\n",
    "    return 6*x + 9"
   ]
  },
  {
   "cell_type": "markdown",
   "metadata": {},
   "source": [
    "#### Step 2: Implement the linear interpolation\n",
    "Using the equations given above, implement the linear interpolation function"
   ]
  },
  {
   "cell_type": "code",
   "execution_count": 20,
   "metadata": {},
   "outputs": [],
   "source": [
    "def linear_interpolation(x, a, fa, b, fb):\n",
    "    \"\"\"\n",
    "    Fits a line to points (a, f(a)) and (b, f(b)) and returns an \n",
    "    approximation for f(x) for some value x between a and b from \n",
    "    the equation of the line.\n",
    "    Parameters:\n",
    "        x (float): the point of interest between a and b\n",
    "        a (float): known x value\n",
    "        fa (float): known f(a) value\n",
    "        b (float): known x value (b > a)\n",
    "        fb (float): known f(b) value\n",
    "    Returns:\n",
    "        (float): an approximation of f(x) using linear interpolation\n",
    "    \"\"\"\n",
    "    #calculates the slope\n",
    "    m = (fb - fa )/(b - a)\n",
    "    return m*(x - a) + fa"
   ]
  },
  {
   "cell_type": "markdown",
   "metadata": {},
   "source": [
    "#### Step 3: Test your linear interpolation\n",
    "Using the linear function you created and your linear interpolation function, write at least three assert statements."
   ]
  },
  {
   "cell_type": "code",
   "execution_count": 21,
   "metadata": {},
   "outputs": [],
   "source": [
    "# To DO: Create at least three assert statements using my_function and linear_interpolation\n",
    "assert(linear_interpolation(1,0,my_function(0), 10, my_function(10)) - my_function(1)<0.01)\n",
    "assert(linear_interpolation(5,10,my_function(10), 100, my_function(100)) - my_function(5)<0.01)\n",
    "assert(linear_interpolation(100,50,my_function(50), 1000, my_function(1000)) - my_function(100)<0.01)"
   ]
  },
  {
   "cell_type": "markdown",
   "metadata": {},
   "source": [
    "#### Step 4: Visualization your results\n",
    "Plot your function. Using a scatter plot, plot at least three x, y points generated using your linear_interpolation function."
   ]
  },
  {
   "cell_type": "code",
   "execution_count": 22,
   "metadata": {},
   "outputs": [
    {
     "data": {
      "text/plain": [
       "<matplotlib.collections.PathCollection at 0x25c8e1a3c70>"
      ]
     },
     "execution_count": 22,
     "metadata": {},
     "output_type": "execute_result"
    },
    {
     "data": {
      "image/png": "[encoded data removed]",
      "text/plain": [
       "<Figure size 432x288 with 1 Axes>"
      ]
     },
     "metadata": {
      "needs_background": "light"
     },
     "output_type": "display_data"
    }
   ],
   "source": [
    "# To Do: Plot your function with at least three interpolated values\n",
    "x = np.linspace(0, 100, 1000)\n",
    "y = linear_interpolation(x,0,my_function(0), 100, my_function(100))\n",
    "plt.plot(x,y)\n",
    "x1 = [0, 100]\n",
    "y1 = [my_function(0), my_function(100)]\n",
    "plt.scatter(x1,y1)"
   ]
  },
  {
   "cell_type": "markdown",
   "metadata": {},
   "source": [
    "### 2nd Order Lagrangian Interpolation"
   ]
  },
  {
   "cell_type": "markdown",
   "metadata": {},
   "source": [
    "If we have more than two points, a better way to get an estimate of \"in between\" points is using a Lagrangian Interpolation. Lagrangian Interpolation fits a nth order polynomial to a number of points. Higher order polynomials often introduce unnecessary \"wiggles\" that introduce error. Using many low-order polynomials often generate a better estimate. For this example, let's use a quadratic (i.e. a 2nd order polynomial). \n",
    "\n",
    "$$f(x) = \\frac{(x-b)(x-c)}{(a - b)(a-c)}f(a) + \\frac{(x-a)(x-c)}{(b-a)(b-c)}f(b) + \\frac{(x - a)(x-b)}{(c - a)(c - b)} f(c) $$"
   ]
  },
  {
   "cell_type": "markdown",
   "metadata": {},
   "source": [
    "#### Step 1: Define a quadratic function\n",
    "\n",
    "Create a quadratic function $f(x) = ax^2 + bx + c$. 2nd Order Lagrangian Interpolation will yield an accurate answer for a 2nd order polynomial (i.e. a quadratic). This is how we will test our interpolation."
   ]
  },
  {
   "cell_type": "code",
   "execution_count": 23,
   "metadata": {},
   "outputs": [],
   "source": [
    "def my_function(x):\n",
    "    return 3*x**2 + 3*x + 3"
   ]
  },
  {
   "cell_type": "markdown",
   "metadata": {},
   "source": [
    "#### Step 2: Implement the 2nd Order Lagrangian Interpolation Function\n",
    "Using the equations given above, implement the 2nd order lagrangian interpolation function"
   ]
  },
  {
   "cell_type": "code",
   "execution_count": 24,
   "metadata": {},
   "outputs": [],
   "source": [
    "def lagrangian_interpolation(x, a, fa, b, fb, c, fc):\n",
    "    \"\"\"\n",
    "    Fits a quadratic to points (a, f(a)), (b, f(b)), and (c, f(c)) and returns an \n",
    "    approximation for f(x) for some value x between a and c from the \n",
    "    equation of a quadratic.\n",
    "    Parameters:\n",
    "        x (float): the point of interest between a and b\n",
    "        a (float): known x value\n",
    "        fa (float): known f(a) value\n",
    "        b (float): known x value (b > a)\n",
    "        fb (float): known f(b) value\n",
    "        c (float): known x value (c > b)\n",
    "        fc (float): known f(c) value\n",
    "    Returns:\n",
    "        (float): an approximation of f(x) using linear interpolation\n",
    "    \"\"\"\n",
    "    return ((x - b) * (x - c)/((a - b) * (a - c)) * fa + (x - a) * (x - c) / ((b - a) * (b - c))*fb + (x - a)*(x - b) / ((c - a) * (c - b) ) * fc )"
   ]
  },
  {
   "cell_type": "markdown",
   "metadata": {},
   "source": [
    "#### Step 3: Test your results"
   ]
  },
  {
   "cell_type": "markdown",
   "metadata": {},
   "source": [
    "Using the quadratic function you created and your 2nd order lagrangian interpolation function, write at least three assert statements."
   ]
  },
  {
   "cell_type": "code",
   "execution_count": 25,
   "metadata": {},
   "outputs": [],
   "source": [
    "# To Do: Write at least three assert statements\n",
    "assert(lagrangian_interpolation(45,0,my_function(0), 50, my_function(50), 100, my_function(100)) - my_function(45) < 0.01)\n",
    "assert(lagrangian_interpolation(5,0,my_function(0), 10, my_function(10), 20, my_function(20)) - my_function(5) < 0.01)\n",
    "assert(lagrangian_interpolation(30,10,my_function(10), 50, my_function(50), 100, my_function(100)) - my_function(30) < 0.01)"
   ]
  },
  {
   "cell_type": "markdown",
   "metadata": {},
   "source": [
    "#### Step 4: Visualize your results\n",
    "Plot your function and using a scatter plot, plot at least three x, y points generated from your lagrangian_interpolation function."
   ]
  },
  {
   "cell_type": "code",
   "execution_count": 26,
   "metadata": {},
   "outputs": [
    {
     "data": {
      "text/plain": [
       "<matplotlib.collections.PathCollection at 0x25c8e1fedf0>"
      ]
     },
     "execution_count": 26,
     "metadata": {},
     "output_type": "execute_result"
    },
    {
     "data": {
      "image/png": "[encoded data removed]",
      "text/plain": [
       "<Figure size 432x288 with 1 Axes>"
      ]
     },
     "metadata": {
      "needs_background": "light"
     },
     "output_type": "display_data"
    }
   ],
   "source": [
    "# To Do: Plot your function with interpolated values\n",
    "x = np.linspace(0, 100, 100)\n",
    "y = lagrangian_interpolation(x,0,my_function(0), 50, my_function(50), 100, my_function(100))\n",
    "plt.plot(x,y)\n",
    "x1 = [0,50,100]\n",
    "y1 = [my_function(0), my_function(50), my_function(100)]\n",
    "plt.scatter(x1,y1)"
   ]
  },
  {
   "cell_type": "markdown",
   "metadata": {},
   "source": [
    "### Application"
   ]
  },
  {
   "cell_type": "markdown",
   "metadata": {},
   "source": [
    "Also contained in this file is a text file called `Partial_Data.txt`. This contains sparse data. In this application section we're going to import the data and approximate the curve using linear and 2nd order lagranging interpolation."
   ]
  },
  {
   "cell_type": "markdown",
   "metadata": {},
   "source": [
    "#### Step 1: Import the data\n",
    "Take a look at the file and see what data it contains. I suggest using `np.loadtxt` to import this data. Using the argument `unpack = True` will allow you to easily assign each column of data to an individual variable. For more information on the `loadtxt` function and its allowed arguments, see: https://numpy.org/doc/stable/reference/generated/numpy.loadtxt.html"
   ]
  },
  {
   "cell_type": "code",
   "execution_count": 27,
   "metadata": {},
   "outputs": [
    {
     "data": {
      "text/plain": [
       "<matplotlib.collections.PathCollection at 0x25c8e25f400>"
      ]
     },
     "execution_count": 27,
     "metadata": {},
     "output_type": "execute_result"
    },
    {
     "data": {
      "image/png": "[encoded data removed]",
      "text/plain": [
       "<Figure size 432x288 with 1 Axes>"
      ]
     },
     "metadata": {
      "needs_background": "light"
     },
     "output_type": "display_data"
    }
   ],
   "source": [
    "# To Do: Import the data \n",
    "\n",
    "n,m = np.loadtxt(\"Partial_Data.txt\", unpack=True)\n",
    "\n",
    "# To Do: Scatter plot the data\n",
    "\n",
    "plt.scatter(n,m)"
   ]
  },
  {
   "cell_type": "markdown",
   "metadata": {},
   "source": [
    "#### Step 2: Linear Interpolation\n",
    "Using your linear interpolation function above, iterate through the sparse data and generate interpolated value.\n",
    "\n",
    "Here's one method to get you started:\n",
    "\n",
    "Starting at the 2nd data point, interate through the data, using the current value (let this value be $b$) and the previous data point (let this be $a$ where $b$ > $a$). Interpolate 100 points between the values of ($a, b$) and plot these values. Move onto the next data point and repeat. "
   ]
  },
  {
   "cell_type": "code",
   "execution_count": 28,
   "metadata": {},
   "outputs": [
    {
     "data": {
      "text/plain": [
       "[<matplotlib.lines.Line2D at 0x25c8e121a00>]"
      ]
     },
     "execution_count": 28,
     "metadata": {},
     "output_type": "execute_result"
    },
    {
     "data": {
      "image/png": "[encoded data removed]",
      "text/plain": [
       "<Figure size 432x288 with 1 Axes>"
      ]
     },
     "metadata": {
      "needs_background": "light"
     },
     "output_type": "display_data"
    }
   ],
   "source": [
    "# To Do: Generate and plot interpolated data\n",
    "#arrays to store the x and y values of the interpolations\n",
    "arr1 = []\n",
    "arr2 = []\n",
    "for i in range (len(n)-1):\n",
    "    #calculates the perameters for linear interpolation\n",
    "    a = n[i]\n",
    "    b = n[i+1]\n",
    "    fa = m[i]\n",
    "    fb = m[i+1]\n",
    "    x = a\n",
    "    #how much x will be incremented by each time around\n",
    "    interval = (b - a)/100\n",
    "    #interpolates 100 points\n",
    "    for j in range (100):\n",
    "        x += interval\n",
    "        arr1.append(x)\n",
    "        arr2.append(linear_interpolation(x, a, fa, b, fb))\n",
    "#plots the graphs\n",
    "plt.scatter(n,m)\n",
    "plt.plot(arr1, arr2)"
   ]
  },
  {
   "cell_type": "markdown",
   "metadata": {},
   "source": [
    "#### Step 3: 2nd Order Lagrangian Interpolation\n",
    "Using your 2nd Order Lagrangian Interpolation function above, iterate through the sparse data and generate interpolated value.\n",
    "\n",
    "Here's one method to get you started:\n",
    "\n",
    "Starting at the 3rd data point, interate through the data, using the current value (let this value be $c$) and the previous two (let these be $a$ and $b$ where $b$ > $a$). Interpolate 100 points between the values of ($a, b$) and plot these values. Move onto the next data point and repeat. "
   ]
  },
  {
   "cell_type": "code",
   "execution_count": 29,
   "metadata": {},
   "outputs": [
    {
     "data": {
      "text/plain": [
       "[<matplotlib.lines.Line2D at 0x25c8df15ca0>]"
      ]
     },
     "execution_count": 29,
     "metadata": {},
     "output_type": "execute_result"
    },
    {
     "data": {
      "image/png": "[encoded data removed]",
      "text/plain": [
       "<Figure size 432x288 with 1 Axes>"
      ]
     },
     "metadata": {
      "needs_background": "light"
     },
     "output_type": "display_data"
    }
   ],
   "source": [
    "# To Do: Generate and plot interpolated data\n",
    "#arrays to store the x and y values of the interpolations\n",
    "arr1 = []\n",
    "arr2 = []\n",
    "for i in range (len(n)-2):\n",
    "    #calculates the perameters for lagrangian interpolation\n",
    "    a = n[i]\n",
    "    b = n[i+1]\n",
    "    fa = m[i]\n",
    "    fb = m[i+1]\n",
    "    c = n[i+2]\n",
    "    fc = m[i+2]\n",
    "    x = a\n",
    "    #how much x will be incremented by each time around\n",
    "    interval = (b - a)/100\n",
    "    #interpolates 100 points\n",
    "    for j in range (100):\n",
    "        x += interval\n",
    "        arr1.append(x)\n",
    "        arr2.append(lagrangian_interpolation(x, a, fa, b, fb, c, fc))\n",
    "#applies interpolation for the final segment of the data set that is not calculated in the above loops\n",
    "x = n[len(n) - 2] \n",
    "interval = (n[len(n) - 1] - n[len(n) - 2])/100\n",
    "for i in range (100):\n",
    "    x += interval\n",
    "    arr1.append(x)\n",
    "    arr2.append(lagrangian_interpolation(x, n[len(n) - 3], m[len(m) - 3], n[len(n) - 2], m[len(m) - 2], n[len(n) - 1], m[len(m) - 1]))\n",
    "\n",
    "#plots the graphs\n",
    "plt.scatter(n,m)\n",
    "plt.plot(arr1, arr2)"
   ]
  }
 ],
 "metadata": {
  "kernelspec": {
   "display_name": "Python 3",
   "language": "python",
   "name": "python3"
  },
  "language_info": {
   "codemirror_mode": {
    "name": "ipython",
    "version": 3
   },
   "file_extension": ".py",
   "mimetype": "text/x-python",
   "name": "python",
   "nbconvert_exporter": "python",
   "pygments_lexer": "ipython3",
   "version": "3.8.8"
  }
 },
 "nbformat": 4,
 "nbformat_minor": 2
}
