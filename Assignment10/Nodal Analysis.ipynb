{
 "cells": [
  {
   "cell_type": "markdown",
   "metadata": {},
   "source": [
    "## Nodal Analysis"
   ]
  },
  {
   "cell_type": "code",
   "execution_count": 2,
   "metadata": {},
   "outputs": [],
   "source": [
    "import numpy as np\n",
    "import matplotlib.pyplot as plt"
   ]
  },
  {
   "cell_type": "markdown",
   "metadata": {},
   "source": [
    "One of the fundamental laws used in circuit analysis is Kirchhoff's Current Law (KCL). This law is summarized as the total current entering the junction must be equal to the total current leaving a junction. Since current is the flow of charge (specifically, $I = \\frac{dQ}{dt}$), this law is a statement of conservation of charge. "
   ]
  },
  {
   "cell_type": "markdown",
   "metadata": {},
   "source": [
    "We can combine KCL with Ohm's law ($V=IR$) to easily find the voltage at junctions in complex circuits where you can't (or don't want to) manually analyze the system by hand. "
   ]
  },
  {
   "cell_type": "markdown",
   "metadata": {},
   "source": [
    "I'll demonstrate this concept on the simple circuit below (the units on the resistors are in Ohms)."
   ]
  },
  {
   "cell_type": "markdown",
   "metadata": {},
   "source": [
    "<img src=\"Sample.png\">"
   ]
  },
  {
   "cell_type": "markdown",
   "metadata": {},
   "source": [
    "This circuit is really simple, and you can solve for the values of $V_1$ and $V_2$ just by looking at it. Most useful circuits are substantially more complex, but we'll start here to develop the concepts, and then apply it to more complex circuits. "
   ]
  },
  {
   "cell_type": "markdown",
   "metadata": {},
   "source": [
    "Applying KCL to $V_1$, we can obtain the following equation:\n",
    "$$ I_{V_1 \\rightarrow V_+} + I_{V_1 \\rightarrow V_2} = 0 $$\n",
    "\n",
    "If we assume the \"positive\" direction is away $V_1$, one of these current values will be negative, so that the current flowing into $V_1$ will equal the current flowing out of $V_1$. \n",
    "\n",
    "Applying Ohm's Law, we can re-write the above equation as:\n",
    "$$ \\frac{V_+ - V_1}{200} + \\frac{V_2 - V_1}{100} = 0 $$\n",
    "\n",
    "Which we can simplify to:\n",
    "\n",
    "$$ 3V_1 - 2V_2 = V_+$$"
   ]
  },
  {
   "cell_type": "markdown",
   "metadata": {},
   "source": [
    "We can do the same thing with $V_2$:\n",
    "\n",
    "$$I_{V_2 \\rightarrow V_1} + I_{V_2 \\rightarrow 0} = 0 $$\n",
    "\n",
    "$$\\frac{V_1 - V_2}{100} + \\frac{0 - V_2}{200} = 0$$\n",
    "\n",
    "$$3V_2 -2V_1 = 0$$"
   ]
  },
  {
   "cell_type": "markdown",
   "metadata": {},
   "source": [
    "Now we have a system of equations that we can express in matrix form:\n",
    "\n",
    "$$\n",
    "\\begin{bmatrix}\n",
    "3 && -2 \\\\\n",
    "-2 && 3\n",
    "\\end{bmatrix}\n",
    "\\begin{bmatrix}\n",
    "V_1 \\\\\n",
    "V_2 \n",
    "\\end{bmatrix}\n",
    "=\n",
    "\\begin{bmatrix}\n",
    "V_+\\\\\n",
    "0\n",
    "\\end{bmatrix}\n",
    "$$"
   ]
  },
  {
   "cell_type": "markdown",
   "metadata": {},
   "source": [
    "Since we know the value of $V_+$ we can write this as an augmented matrix and plug it into the solver function we created on the previous assignment. "
   ]
  },
  {
   "cell_type": "code",
   "execution_count": 3,
   "metadata": {},
   "outputs": [],
   "source": [
    "## TO DO: Copy and paste your 'solve_system(matrix)' function from yesterday's assignment. \n",
    "def solve_system(matrix):\n",
    "    \"\"\"\n",
    "    Solves a system of linear equations\n",
    "    Parameters:\n",
    "        matrix(N x N+1 numpy array): the augmented matrix to be solved\n",
    "    Returns:\n",
    "        (N x 1 numpy array): array of the solutions to the linear equations\n",
    "    \"\"\"\n",
    "    N = len(matrix)\n",
    "    matrix = matrix.astype(\"float64\")\n",
    "    #creating the upward triangle\n",
    "    for i in range(N):\n",
    "        maxNum = 0\n",
    "        index = 0\n",
    "        #the elimination of values to get to 0\n",
    "        if (i>0):\n",
    "            for j in range (i,N):\n",
    "                matrix[j] = matrix[i-1]*matrix[j][i-1] - matrix[j] \n",
    "        #Implementation of Partial Pivot\n",
    "        for j in range (i,N):\n",
    "            if (abs(maxNum) < abs(matrix[j][i])):\n",
    "                maxNum = matrix[j][i]\n",
    "                index = j\n",
    "        copy = np.array(matrix[i].tolist())\n",
    "        matrix[i] = matrix[index]\n",
    "        matrix[index] = copy\n",
    "        #Division for getting identity matrix\n",
    "        num = matrix[i][i]\n",
    "        matrix[i] = matrix[i]/num\n",
    "    #Implementation of backsubstitution\n",
    "    for i in range (N -1, 0, -1):\n",
    "        for j in range (i):\n",
    "            matrix[j] = matrix[j] - matrix[j][i]*matrix[i]\n",
    "    \n",
    "    return matrix[:,-1]"
   ]
  },
  {
   "cell_type": "code",
   "execution_count": 4,
   "metadata": {},
   "outputs": [],
   "source": [
    "## TO DO: Create the augemented matrix for the matrix equation shown above\n",
    "example1 = np.array([[3,-2,5],[-2,3,0]])"
   ]
  },
  {
   "cell_type": "code",
   "execution_count": 5,
   "metadata": {},
   "outputs": [
    {
     "name": "stdout",
     "output_type": "stream",
     "text": [
      "[3. 2.]\n"
     ]
    }
   ],
   "source": [
    "## TO DO: Solve the matrix using your solve_system function\n",
    "print (solve_system(example1))"
   ]
  },
  {
   "cell_type": "markdown",
   "metadata": {},
   "source": [
    "Applying the same process as above, find the voltages at  $V_1$, $V_2$, $V_3$, and $V_4$."
   ]
  },
  {
   "cell_type": "markdown",
   "metadata": {},
   "source": [
    "If you want to check your answer, you can solve it by hand, or build the circuit in https://www.falstad.com/circuit/"
   ]
  },
  {
   "cell_type": "markdown",
   "metadata": {},
   "source": [
    "<img width=300px src = \"Circuit1.png\">"
   ]
  },
  {
   "cell_type": "code",
   "execution_count": 6,
   "metadata": {},
   "outputs": [],
   "source": [
    "## TO DO: Create an augmented matrix for the above circuit\n",
    "example2 = np.array([[-3,1,1,0,-5],[1,1,-4,1,0],[1,-4,1,1,-5],[0,1,1,-3,0]])"
   ]
  },
  {
   "cell_type": "code",
   "execution_count": 7,
   "metadata": {},
   "outputs": [
    {
     "name": "stdout",
     "output_type": "stream",
     "text": [
      "[3.33333333 3.         2.         1.66666667]\n"
     ]
    }
   ],
   "source": [
    "## TO DO: Solve the matrix using your solve_system function\n",
    "print (solve_system(example2))"
   ]
  },
  {
   "cell_type": "markdown",
   "metadata": {},
   "source": [
    "Applying the same process as above, find the voltages at  $V_1$, $V_2$, $V_3$, $V_4$, $V_5$, $V_6$, and $V_7$."
   ]
  },
  {
   "cell_type": "markdown",
   "metadata": {},
   "source": [
    "If you want to check your answer, you can solve it by hand, or build the circuit in https://www.falstad.com/circuit/"
   ]
  },
  {
   "cell_type": "markdown",
   "metadata": {},
   "source": [
    "<img src = \"Circuit2.png\">"
   ]
  },
  {
   "cell_type": "code",
   "execution_count": 10,
   "metadata": {},
   "outputs": [],
   "source": [
    "## TO DO: Create an augmented matrix for the above circuit\n",
    "example3 = np.array([[-2,0,1,0,0,0,0,-5],[0,-3,0,1,1,0,0,-5],[1,0,-4,1,0,1,0,-5],[0,1,1,-6,1,1,0,-5],[0,1,0,1,-4,0,1,0],[0,0,1,1,0,-3,0,0],[0,0,0,0,1,0,-2,0]])"
   ]
  },
  {
   "cell_type": "code",
   "execution_count": 11,
   "metadata": {},
   "outputs": [
    {
     "name": "stdout",
     "output_type": "stream",
     "text": [
      "[4.21052632 3.02631579 3.42105263 2.5        1.57894737 1.97368421\n",
      " 0.78947368]\n"
     ]
    }
   ],
   "source": [
    "## TO DO: Solve the matrix using your solve_system function\n",
    "print (solve_system(example3))"
   ]
  },
  {
   "cell_type": "code",
   "execution_count": null,
   "metadata": {},
   "outputs": [],
   "source": []
  }
 ],
 "metadata": {
  "kernelspec": {
   "display_name": "Python 3",
   "language": "python",
   "name": "python3"
  },
  "language_info": {
   "codemirror_mode": {
    "name": "ipython",
    "version": 3
   },
   "file_extension": ".py",
   "mimetype": "text/x-python",
   "name": "python",
   "nbconvert_exporter": "python",
   "pygments_lexer": "ipython3",
   "version": "3.8.8"
  }
 },
 "nbformat": 4,
 "nbformat_minor": 2
}
