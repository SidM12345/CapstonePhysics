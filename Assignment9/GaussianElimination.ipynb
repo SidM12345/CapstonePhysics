{
 "cells": [
  {
   "cell_type": "markdown",
   "metadata": {},
   "source": [
    "# Gaussian Elimination"
   ]
  },
  {
   "cell_type": "code",
   "execution_count": 1,
   "metadata": {},
   "outputs": [],
   "source": [
    "import numpy as np\n",
    "import matplotlib.pyplot as plt\n",
    "import math"
   ]
  },
  {
   "cell_type": "markdown",
   "metadata": {},
   "source": [
    "Assume we have a relationship betwen three variables x, y, and z, that can be related using the following three equations:\n",
    "\n",
    "$$2x - 4y + z = -3$$\n",
    "$$-x + 2y -2z = -3$$\n",
    "$$x + y + z = 6$$\n",
    "\n",
    "We can then express these relationships in the matrix form:\n",
    "\n",
    "$$\n",
    "\\begin{bmatrix}\n",
    "2 && -4 && 1 \\\\\n",
    "-1 && 2 && -2 \\\\\n",
    "1 && 1 && 1\n",
    "\\end{bmatrix} \n",
    "\\begin{bmatrix} x \\\\ y \\\\ z \\end{bmatrix} =\n",
    "\\begin{bmatrix} -3 \\\\ -3 \\\\ 6\\end{bmatrix}$$\n",
    "\n",
    "Often, this relation is written in it's more condensed short-hand form (known as an augmented matrix):\n",
    "\n",
    "$$\n",
    "\\left[\n",
    "\\begin{matrix}\n",
    "2 && -4 && 1 \\\\\n",
    "-1 && 2 && -2 \\\\\n",
    "1 && 1 && 1\n",
    "\\end{matrix}\n",
    "\\middle|\n",
    "\\begin{matrix}\n",
    "-3 \\\\ \n",
    "-3 \\\\ \n",
    "6\n",
    "\\end{matrix}\n",
    "\\right]$$"
   ]
  },
  {
   "cell_type": "markdown",
   "metadata": {},
   "source": [
    "The idea of these problems, is to solve for the x, y and z values that satisfy the above conditions."
   ]
  },
  {
   "cell_type": "markdown",
   "metadata": {},
   "source": [
    "\n",
    "When writing this process in a computer program, we need a very structured way of iterating and processing data. We'll want to organize our matrix in a way such that our program can solve every matrix in the same way. \n",
    "\n",
    "If we were computing this solution by hand, we'd know the following two matrices are identical statements (notice, just two rows are swapped):\n",
    "\n",
    "$$\n",
    "\\left[\n",
    "\\begin{matrix}\n",
    "1 && 0 && 0 \\\\\n",
    "0 && 0 && 1 \\\\\n",
    "0 && 1 && 0 \\\\\n",
    "\\end{matrix}\n",
    "\\middle|\n",
    "\\begin{matrix}\n",
    "1 \\\\ 3 \\\\ 2\n",
    "\\end{matrix}\n",
    "\\right]\n",
    "=\n",
    "\\left[\n",
    "\\begin{matrix}\n",
    "1 && 0 && 0 \\\\\n",
    "0 && 1 && 0 \\\\\n",
    "0 && 0 && 1 \\\\\n",
    "\\end{matrix}\n",
    "\\middle|\n",
    "\\begin{matrix}\n",
    "1 \\\\ 2 \\\\ 3\n",
    "\\end{matrix}\n",
    "\\right]\n",
    "$$"
   ]
  },
  {
   "cell_type": "markdown",
   "metadata": {},
   "source": [
    "But, in order to create a strategic and methodically process for the computer, we'll have to organize the matrix such that our solution matrix will have 1's in the diagonal (also called the Identity Matrix)."
   ]
  },
  {
   "cell_type": "markdown",
   "metadata": {},
   "source": [
    "Here's how we can implement gaussian elimination with backsubstitution on the computer:"
   ]
  },
  {
   "cell_type": "markdown",
   "metadata": {},
   "source": [
    "#### Part 1: Iterate through your matrix. For each row, do the following steps:"
   ]
  },
  {
   "cell_type": "markdown",
   "metadata": {},
   "source": [
    "##### Step 1: Partial Pivot\n",
    "\n",
    "Essentially, this just means we're going to include a process that will swap rows so that our final matrix will be the identity matrix.\n",
    "\n",
    "While you're iterating though the matrix, you'll need to compare the <i>ith</i> term of the <i>ith</i> row to the <i>ith</i> term in all the following rows. Swap the <i>ith</i> row with the row that has the largest <i>ith</i> element. (\"Largest\" in this case means farthest from 0, so you'll want to compare the absolute values). "
   ]
  },
  {
   "cell_type": "markdown",
   "metadata": {},
   "source": [
    "##### Step 2: Divide by the diagonal term\n",
    "Divide the whole row by it's diagonal term (such that the diagonal term is a one). "
   ]
  },
  {
   "cell_type": "markdown",
   "metadata": {},
   "source": [
    "##### Step 3: Add multiples\n",
    "The goal in this step is to make the matrix upper triangular (every element below the diagonal is 0).\n",
    "\n",
    "Our first row currently has a 1 in the leftmost position. We want to zero out the leftmost position for all of the following rows. So for every row after the 1st row, you'll subtract some multiple times the first row.\n",
    "\n",
    "When you repeat all of these steps on the <i>ith</i> row, you'll do the same thing for all of the following rows."
   ]
  },
  {
   "cell_type": "markdown",
   "metadata": {},
   "source": [
    "After you repeat all of the above steps on the entirety of the matrix, your matrix should be upper triangular with ones along the diagonal. The last step is to use backsubstitution to get the identity matrix. "
   ]
  },
  {
   "cell_type": "markdown",
   "metadata": {},
   "source": [
    "#### Part 2: Backsubstitution\n",
    "Now that the matrix is upper triangular, we'll want to add multiples of rows to manipulate it into the identity matrix. Our last row contains only one value, add multiples of this row to each of the preceding rows to zero out the position in this matrix for all but the last row. Move up to the second to last row, and repeat this process. "
   ]
  },
  {
   "cell_type": "code",
   "execution_count": null,
   "metadata": {},
   "outputs": [],
   "source": []
  },
  {
   "cell_type": "code",
   "execution_count": 49,
   "metadata": {},
   "outputs": [
    {
     "name": "stdout",
     "output_type": "stream",
     "text": [
      "[1. 2.]\n"
     ]
    }
   ],
   "source": [
    "\n",
    "\n",
    "def solve_system(matrix):\n",
    "    \"\"\"\n",
    "    Solves a system of linear equations\n",
    "    Parameters:\n",
    "        matrix(N x N+1 numpy array): the augmented matrix to be solved\n",
    "    Returns:\n",
    "        (N x 1 numpy array): array of the solutions to the linear equations\n",
    "    \"\"\"\n",
    "    N = len(matrix)\n",
    "    matrix = matrix.astype(\"float64\")\n",
    "    #creating the upward triangle\n",
    "    for i in range(N):\n",
    "        maxNum = 0\n",
    "        index = 0\n",
    "        #the elimination of values to get to 0\n",
    "        if (i>0):\n",
    "            for j in range (i,N):\n",
    "                matrix[j] = matrix[i-1]*matrix[j][i-1] - matrix[j] \n",
    "        #Implementation of Partial Pivot\n",
    "        for j in range (i,N):\n",
    "            if (abs(maxNum) < abs(matrix[j][i])):\n",
    "                maxNum = matrix[j][i]\n",
    "                index = j\n",
    "        copy = np.array(matrix[i].tolist())\n",
    "        matrix[i] = matrix[index]\n",
    "        matrix[index] = copy\n",
    "        #Division for getting identity matrix\n",
    "        num = matrix[i][i]\n",
    "        matrix[i] = matrix[i]/num\n",
    "    #Implementation of backsubstitution\n",
    "    for i in range (N -1, 0, -1):\n",
    "        for j in range (i):\n",
    "            matrix[j] = matrix[j] - matrix[j][i]*matrix[i]\n",
    "    \n",
    "    return matrix[:,-1]"
   ]
  },
  {
   "cell_type": "markdown",
   "metadata": {},
   "source": [
    "I recommend implementing the basics without the partial pivot, then incorporate the partial pivot after you have a solution that works for some matrices (I've included a collection of assert statements below that will pass without the partial pivot implemented). "
   ]
  },
  {
   "cell_type": "markdown",
   "metadata": {},
   "source": [
    "I've included a detailed list of tests below. Once your code is running correctly, all of the following tests will pass. "
   ]
  },
  {
   "cell_type": "code",
   "execution_count": 53,
   "metadata": {},
   "outputs": [],
   "source": [
    "test_a = np.array([[1, 0, 3], [0, 1, 2]])\n",
    "test_b = np.array([[3, 1, 5], [2, 2, 6]])\n",
    "test_c = np.array([[2,1,4,1,-4], [3,4,-1,-1,3], [1,-4,1,5,9], [2,-2,1,3,7]])\n",
    "test_d = np.array([[0, 1, 2], [1, 0, 3]])\n",
    "test_e = np.array([[2, -4, 1, -3], [-1, 2, -2, -3], [1, 1, 1, 6]])\n",
    "test_f = np.array([[1,1,1,1,12], [2, -1, -1, 1, 4], [1, -2, 1, -2, -15], [3, 3, 2, -1, 15]])\n",
    "test_g = np.array([[0, 0, 1, 0, 10], [0, 1, 0, 0, 3], [1, 0, 0, 0, 4], [0, 0, 0, 1, 2]])"
   ]
  },
  {
   "cell_type": "code",
   "execution_count": 54,
   "metadata": {},
   "outputs": [],
   "source": [
    "# These will pass without the pivot functionality\n",
    "assert(np.all((solve_system(test_a) - np.array([3, 2]) < 0.0001)))\n",
    "assert(np.all((solve_system(test_b) - np.array([1, 2]) < 0.0001)))\n",
    "assert(np.all((solve_system(test_c) - np.array([2, -1, 2, 1]) < 0.0001)))\n",
    "assert(np.all((solve_system(test_f) - np.array([2, 4, 1, 5]) < 0.0001)))"
   ]
  },
  {
   "cell_type": "code",
   "execution_count": 55,
   "metadata": {},
   "outputs": [],
   "source": [
    "# These will NOT pass unless you have the partial pivot implemented correct\n",
    "assert(np.all((solve_system(test_d) - np.array([3, 2]) < 0.0001)))\n",
    "assert(np.all((solve_system(test_e) - np.array([1, 2, 3]) < 0.0001)))\n",
    "assert(np.all((solve_system(test_g) - np.array([4, 3, 10, 2]) < 0.0001)))"
   ]
  },
  {
   "cell_type": "code",
   "execution_count": null,
   "metadata": {},
   "outputs": [],
   "source": []
  },
  {
   "cell_type": "code",
   "execution_count": null,
   "metadata": {},
   "outputs": [],
   "source": []
  }
 ],
 "metadata": {
  "kernelspec": {
   "display_name": "Python 3",
   "language": "python",
   "name": "python3"
  },
  "language_info": {
   "codemirror_mode": {
    "name": "ipython",
    "version": 3
   },
   "file_extension": ".py",
   "mimetype": "text/x-python",
   "name": "python",
   "nbconvert_exporter": "python",
   "pygments_lexer": "ipython3",
   "version": "3.8.8"
  }
 },
 "nbformat": 4,
 "nbformat_minor": 2
}
